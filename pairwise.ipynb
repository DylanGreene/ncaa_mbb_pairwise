{
 "cells": [
  {
   "cell_type": "markdown",
   "metadata": {},
   "source": [
    "# NCAA Men's Basketball Pairwise Rankings\n",
    "Generate rankings for college basketball by pairwise comparisons"
   ]
  },
  {
   "cell_type": "code",
   "execution_count": 1,
   "metadata": {},
   "outputs": [],
   "source": [
    "import numpy as np\n",
    "import pandas as pd"
   ]
  },
  {
   "cell_type": "markdown",
   "metadata": {},
   "source": [
    "## Import Data"
   ]
  },
  {
   "cell_type": "code",
   "execution_count": 2,
   "metadata": {},
   "outputs": [],
   "source": [
    "teams = pd.read_csv('data/2019/Teams.csv')\n",
    "results = pd.read_csv('data/2019/RegularSeasonCompactResults.csv')"
   ]
  },
  {
   "cell_type": "code",
   "execution_count": 3,
   "metadata": {},
   "outputs": [],
   "source": [
    "def clean_data(teams, results, season):\n",
    "    active_teams = teams.set_index('TeamID')[['TeamName']]\n",
    "    season_results = results[results['Season'] == season]\n",
    "    for team_id in list(teams.TeamID):\n",
    "        wins = season_results[season_results['WTeamID'] == team_id]\n",
    "        losses = season_results[season_results['LTeamID'] == team_id]\n",
    "        if len(wins) + len(losses) > 0:\n",
    "            active_teams.at[team_id, 'Wins'] = len(wins)\n",
    "            active_teams.at[team_id, 'Losses'] = len(losses)\n",
    "        else:\n",
    "            active_teams.drop(team_id, inplace=True)\n",
    "    return (active_teams, season_results)"
   ]
  },
  {
   "cell_type": "code",
   "execution_count": 4,
   "metadata": {},
   "outputs": [],
   "source": [
    "active_teams, season_results = clean_data(teams, results, 2018)"
   ]
  },
  {
   "cell_type": "markdown",
   "metadata": {},
   "source": [
    "## RPI - Ratings Percentage Index"
   ]
  },
  {
   "cell_type": "markdown",
   "metadata": {},
   "source": [
    "* The team's own winning percentage (25%)"
   ]
  },
  {
   "cell_type": "code",
   "execution_count": 5,
   "metadata": {},
   "outputs": [],
   "source": [
    "def WP(team_id, active_teams, season_results):\n",
    "    wins = season_results[season_results['WTeamID'] == team_id]\n",
    "    losses = season_results[season_results['LTeamID'] == team_id]\n",
    "        \n",
    "    weighted_wins, weighted_losses = 0, 0\n",
    "    for game_id in wins.index:\n",
    "        if wins.at[game_id, 'WLoc'] == 'A': weighted_wins += 1.3\n",
    "        elif wins.at[game_id, 'WLoc'] == 'H': weighted_wins += 0.7\n",
    "        else: weighted_wins += 1\n",
    "    for game_id in losses.index:\n",
    "        if losses.at[game_id, 'WLoc'] == 'A': weighted_losses += 1.3\n",
    "        elif losses.at[game_id, 'WLoc'] == 'H': weighted_losses += 0.7\n",
    "        else: weighted_losses += 1\n",
    "    \n",
    "    return weighted_wins/(weighted_wins+weighted_losses)"
   ]
  },
  {
   "cell_type": "code",
   "execution_count": 6,
   "metadata": {},
   "outputs": [],
   "source": [
    "for team_id in active_teams.index:\n",
    "    active_teams.at[team_id, 'WP'] = WP(team_id, active_teams, season_results)"
   ]
  },
  {
   "cell_type": "markdown",
   "metadata": {},
   "source": [
    "* The average of the team's opponents' winning percentages (50%)"
   ]
  },
  {
   "cell_type": "code",
   "execution_count": 7,
   "metadata": {},
   "outputs": [],
   "source": [
    "def OWP(team_id, active_teams, season_results):\n",
    "    wins = list(season_results[season_results['WTeamID'] == team_id].LTeamID)\n",
    "    losses = list(season_results[season_results['LTeamID'] == team_id].WTeamID)\n",
    "    \n",
    "    accumulator = 0\n",
    "    for opp_id in wins+losses:\n",
    "        # wins and losses excluding games against the TUC\n",
    "        opp_wins = season_results[(season_results['WTeamID'] == opp_id) & (season_results['LTeamID'] != team_id)]\n",
    "        opp_losses = season_results[(season_results['LTeamID'] == opp_id) & (season_results['WTeamID'] != team_id)]\n",
    "        accumulator += len(opp_wins)/(len(opp_wins)+len(opp_losses))\n",
    "    return accumulator/(len(wins)+len(losses))"
   ]
  },
  {
   "cell_type": "code",
   "execution_count": 8,
   "metadata": {},
   "outputs": [],
   "source": [
    "for team_id in active_teams.index:\n",
    "    active_teams.at[team_id, 'OWP'] = OWP(team_id, active_teams, season_results)"
   ]
  },
  {
   "cell_type": "markdown",
   "metadata": {},
   "source": [
    "* The average of the team's opponents opponents' winning percentages (25%)"
   ]
  },
  {
   "cell_type": "code",
   "execution_count": 9,
   "metadata": {},
   "outputs": [],
   "source": [
    "def OOWP(team_id, active_teams, season_results):\n",
    "    wins = list(season_results[season_results['WTeamID'] == team_id].LTeamID)\n",
    "    losses = list(season_results[season_results['LTeamID'] == team_id].WTeamID)\n",
    "    \n",
    "    accumulator = 0\n",
    "    for opp_id in wins+losses:\n",
    "        accumulator += active_teams.at[opp_id, 'OWP']\n",
    "    return accumulator/(len(wins)+len(losses))"
   ]
  },
  {
   "cell_type": "code",
   "execution_count": 10,
   "metadata": {},
   "outputs": [],
   "source": [
    "for team_id in active_teams.index:\n",
    "    active_teams.at[team_id, 'OOWP'] = OOWP(team_id, active_teams, season_results)"
   ]
  },
  {
   "cell_type": "markdown",
   "metadata": {},
   "source": [
    "* Combined RPI Formula"
   ]
  },
  {
   "cell_type": "code",
   "execution_count": 11,
   "metadata": {},
   "outputs": [
    {
     "data": {
      "text/html": [
       "<div>\n",
       "<style scoped>\n",
       "    .dataframe tbody tr th:only-of-type {\n",
       "        vertical-align: middle;\n",
       "    }\n",
       "\n",
       "    .dataframe tbody tr th {\n",
       "        vertical-align: top;\n",
       "    }\n",
       "\n",
       "    .dataframe thead th {\n",
       "        text-align: right;\n",
       "    }\n",
       "</style>\n",
       "<table border=\"1\" class=\"dataframe\">\n",
       "  <thead>\n",
       "    <tr style=\"text-align: right;\">\n",
       "      <th></th>\n",
       "      <th>TeamName</th>\n",
       "      <th>Wins</th>\n",
       "      <th>Losses</th>\n",
       "      <th>WP</th>\n",
       "      <th>OWP</th>\n",
       "      <th>OOWP</th>\n",
       "      <th>RPI</th>\n",
       "    </tr>\n",
       "    <tr>\n",
       "      <th>TeamID</th>\n",
       "      <th></th>\n",
       "      <th></th>\n",
       "      <th></th>\n",
       "      <th></th>\n",
       "      <th></th>\n",
       "      <th></th>\n",
       "      <th></th>\n",
       "    </tr>\n",
       "  </thead>\n",
       "  <tbody>\n",
       "    <tr>\n",
       "      <th>1438</th>\n",
       "      <td>Virginia</td>\n",
       "      <td>31.0</td>\n",
       "      <td>2.0</td>\n",
       "      <td>0.935897</td>\n",
       "      <td>0.607327</td>\n",
       "      <td>0.563329</td>\n",
       "      <td>0.678470</td>\n",
       "    </tr>\n",
       "    <tr>\n",
       "      <th>1437</th>\n",
       "      <td>Villanova</td>\n",
       "      <td>30.0</td>\n",
       "      <td>4.0</td>\n",
       "      <td>0.895385</td>\n",
       "      <td>0.603407</td>\n",
       "      <td>0.558442</td>\n",
       "      <td>0.665160</td>\n",
       "    </tr>\n",
       "    <tr>\n",
       "      <th>1462</th>\n",
       "      <td>Xavier</td>\n",
       "      <td>28.0</td>\n",
       "      <td>5.0</td>\n",
       "      <td>0.844884</td>\n",
       "      <td>0.600805</td>\n",
       "      <td>0.562336</td>\n",
       "      <td>0.652207</td>\n",
       "    </tr>\n",
       "    <tr>\n",
       "      <th>1242</th>\n",
       "      <td>Kansas</td>\n",
       "      <td>27.0</td>\n",
       "      <td>7.0</td>\n",
       "      <td>0.780564</td>\n",
       "      <td>0.626923</td>\n",
       "      <td>0.559004</td>\n",
       "      <td>0.648354</td>\n",
       "    </tr>\n",
       "    <tr>\n",
       "      <th>1314</th>\n",
       "      <td>North Carolina</td>\n",
       "      <td>25.0</td>\n",
       "      <td>10.0</td>\n",
       "      <td>0.711656</td>\n",
       "      <td>0.650478</td>\n",
       "      <td>0.565324</td>\n",
       "      <td>0.644484</td>\n",
       "    </tr>\n",
       "  </tbody>\n",
       "</table>\n",
       "</div>"
      ],
      "text/plain": [
       "              TeamName  Wins  Losses        WP       OWP      OOWP       RPI\n",
       "TeamID                                                                      \n",
       "1438          Virginia  31.0     2.0  0.935897  0.607327  0.563329  0.678470\n",
       "1437         Villanova  30.0     4.0  0.895385  0.603407  0.558442  0.665160\n",
       "1462            Xavier  28.0     5.0  0.844884  0.600805  0.562336  0.652207\n",
       "1242            Kansas  27.0     7.0  0.780564  0.626923  0.559004  0.648354\n",
       "1314    North Carolina  25.0    10.0  0.711656  0.650478  0.565324  0.644484"
      ]
     },
     "execution_count": 11,
     "metadata": {},
     "output_type": "execute_result"
    }
   ],
   "source": [
    "for team_id in active_teams.index:\n",
    "    active_teams.at[team_id, 'RPI'] = (active_teams.at[team_id, 'WP']*0.25) + (active_teams.at[team_id, 'OWP']*0.5) + (active_teams.at[team_id, 'OOWP']*0.25)\n",
    "active_teams.sort_values(by='RPI', ascending=False).head()"
   ]
  },
  {
   "cell_type": "markdown",
   "metadata": {},
   "source": [
    "## Record vs. Common Opponents"
   ]
  },
  {
   "cell_type": "code",
   "execution_count": null,
   "metadata": {},
   "outputs": [],
   "source": []
  },
  {
   "cell_type": "code",
   "execution_count": null,
   "metadata": {},
   "outputs": [],
   "source": []
  },
  {
   "cell_type": "markdown",
   "metadata": {},
   "source": [
    "## Head-to-Head Record"
   ]
  },
  {
   "cell_type": "code",
   "execution_count": null,
   "metadata": {},
   "outputs": [],
   "source": []
  },
  {
   "cell_type": "code",
   "execution_count": null,
   "metadata": {},
   "outputs": [],
   "source": []
  },
  {
   "cell_type": "markdown",
   "metadata": {},
   "source": [
    "## Pairwise Comparison"
   ]
  },
  {
   "cell_type": "code",
   "execution_count": null,
   "metadata": {},
   "outputs": [],
   "source": []
  },
  {
   "cell_type": "code",
   "execution_count": null,
   "metadata": {},
   "outputs": [],
   "source": []
  }
 ],
 "metadata": {
  "kernelspec": {
   "display_name": "Python 3",
   "language": "python",
   "name": "python3"
  },
  "language_info": {
   "codemirror_mode": {
    "name": "ipython",
    "version": 3
   },
   "file_extension": ".py",
   "mimetype": "text/x-python",
   "name": "python",
   "nbconvert_exporter": "python",
   "pygments_lexer": "ipython3",
   "version": "3.6.8"
  }
 },
 "nbformat": 4,
 "nbformat_minor": 2
}
